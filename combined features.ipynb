{
 "cells": [
  {
   "cell_type": "code",
   "execution_count": 1,
   "id": "90aa71aa",
   "metadata": {},
   "outputs": [
    {
     "name": "stderr",
     "output_type": "stream",
     "text": [
      "[nltk_data] Downloading package punkt to\n",
      "[nltk_data]     C:\\Users\\Dell\\AppData\\Roaming\\nltk_data...\n",
      "[nltk_data]   Package punkt is already up-to-date!\n",
      "[nltk_data] Downloading package averaged_perceptron_tagger to\n",
      "[nltk_data]     C:\\Users\\Dell\\AppData\\Roaming\\nltk_data...\n",
      "[nltk_data]   Package averaged_perceptron_tagger is already up-to-\n",
      "[nltk_data]       date!\n"
     ]
    }
   ],
   "source": [
    "# Importing necessary Libraries\n",
    "from collections import Counter\n",
    "import pandas as pd\n",
    "import nltk\n",
    "import string\n",
    "import spacy\n",
    "import collections\n",
    "from collections import Counter\n",
    "from nltk import ngrams\n",
    "from sklearn.model_selection import train_test_split\n",
    "from sklearn.feature_extraction.text import TfidfVectorizer\n",
    "from sklearn.ensemble import RandomForestClassifier\n",
    "from sklearn.metrics import accuracy_score, classification_report\n",
    "from sklearn.feature_extraction.text import CountVectorizer\n",
    "nltk.download('punkt')\n",
    "nltk.download('averaged_perceptron_tagger')\n",
    "nlp = spacy.load('en_core_web_md')  "
   ]
  },
  {
   "cell_type": "code",
   "execution_count": 2,
   "id": "e6206b4a",
   "metadata": {},
   "outputs": [],
   "source": [
    "# Loading my dataset\n",
    "df = pd.read_csv('ultimate.csv')"
   ]
  },
  {
   "cell_type": "code",
   "execution_count": 3,
   "id": "1bfc3172",
   "metadata": {},
   "outputs": [
    {
     "name": "stdout",
     "output_type": "stream",
     "text": [
      "                                            Question  \\\n",
      "0  Whats your view on the Microsoft report that 7...   \n",
      "1  Whats your view on the Microsoft report that 7...   \n",
      "2  What are the pros and cons of opensource softw...   \n",
      "3  What are the pros and cons of opensource softw...   \n",
      "4               What is the artificial intelligence?   \n",
      "\n",
      "                                              Answer          Label  \n",
      "0  There is nothing to worry about it, also 74 lo...  Human written  \n",
      "1  As of my last knowledge update in September 20...   AI Generated  \n",
      "2  Opensource and proprietary software each come ...  Human written  \n",
      "3  Both opensource software and proprietary softw...   AI Generated  \n",
      "4  Artificial intelligence AI is a wideranging br...  Human written  \n"
     ]
    }
   ],
   "source": [
    "print(df.head())\n"
   ]
  },
  {
   "cell_type": "code",
   "execution_count": 4,
   "id": "140b999f",
   "metadata": {},
   "outputs": [],
   "source": [
    "import pandas as pd\n",
    "\n",
    "# Loading my dataset\n",
    "\n",
    "label_mapping = {0: 'Human written', 1: 'AI Generated'}\n",
    "\n",
    "# Factorizing the \"Labels\" column and replacing them with the mapped labels\n",
    "df['Label'], _ = pd.factorize(df['Label'])\n",
    "df['Label'] = df['Label'].map(label_mapping)\n"
   ]
  },
  {
   "cell_type": "code",
   "execution_count": 5,
   "id": "aaa11c24",
   "metadata": {},
   "outputs": [],
   "source": [
    "# Defining the function to calculate word frequency distribution\n",
    "def calculate_word_frequency(text):\n",
    "    words = text.split()\n",
    "    word_freq = Counter(words)\n",
    "    return word_freq\n",
    "\n",
    "# Applying the function to my DataFrame\n",
    "df['Word_Frequency'] = df['Answer'].apply(calculate_word_frequency)"
   ]
  },
  {
   "cell_type": "code",
   "execution_count": 6,
   "id": "9f657869",
   "metadata": {},
   "outputs": [
    {
     "name": "stdout",
     "output_type": "stream",
     "text": [
      "                                            Question  \\\n",
      "0  Whats your view on the Microsoft report that 7...   \n",
      "1  Whats your view on the Microsoft report that 7...   \n",
      "2  What are the pros and cons of opensource softw...   \n",
      "3  What are the pros and cons of opensource softw...   \n",
      "4               What is the artificial intelligence?   \n",
      "\n",
      "                                              Answer          Label  \\\n",
      "0  There is nothing to worry about it, also 74 lo...  Human written   \n",
      "1  As of my last knowledge update in September 20...   AI Generated   \n",
      "2  Opensource and proprietary software each come ...  Human written   \n",
      "3  Both opensource software and proprietary softw...   AI Generated   \n",
      "4  Artificial intelligence AI is a wideranging br...  Human written   \n",
      "\n",
      "                                      Word_Frequency  \n",
      "0  {'There': 1, 'is': 3, 'nothing': 1, 'to': 3, '...  \n",
      "1  {'As': 2, 'of': 9, 'my': 1, 'last': 1, 'knowle...  \n",
      "2  {'Opensource': 2, 'and': 17, 'proprietary': 5,...  \n",
      "3  {'Both': 1, 'opensource': 3, 'software': 13, '...  \n",
      "4  {'Artificial': 1, 'intelligence': 1, 'AI': 2, ...  \n"
     ]
    }
   ],
   "source": [
    "print(df.head())"
   ]
  },
  {
   "cell_type": "code",
   "execution_count": 7,
   "id": "93b1a1a0",
   "metadata": {},
   "outputs": [],
   "source": [
    "# Defining a function to calculate n-gram frequencies\n",
    "def calculate_ngram_frequency(text, n):\n",
    "    words = nltk.word_tokenize(text)\n",
    "    ngram_freq = Counter(ngrams(words, n))\n",
    "    return ngram_freq\n",
    "\n",
    "# Applying the function to my DataFrame\n",
    "n = 4  # we can change n as needed for desired n-grams \n",
    "df[f'{n}-gram_Frequency'] = df['Answer'].apply(lambda x: calculate_ngram_frequency(x, n))\n",
    "\n"
   ]
  },
  {
   "cell_type": "code",
   "execution_count": 8,
   "id": "dc4a6ac6",
   "metadata": {},
   "outputs": [
    {
     "name": "stdout",
     "output_type": "stream",
     "text": [
      "                                            Question  \\\n",
      "0  Whats your view on the Microsoft report that 7...   \n",
      "1  Whats your view on the Microsoft report that 7...   \n",
      "2  What are the pros and cons of opensource softw...   \n",
      "3  What are the pros and cons of opensource softw...   \n",
      "4               What is the artificial intelligence?   \n",
      "\n",
      "                                              Answer          Label  \\\n",
      "0  There is nothing to worry about it, also 74 lo...  Human written   \n",
      "1  As of my last knowledge update in September 20...   AI Generated   \n",
      "2  Opensource and proprietary software each come ...  Human written   \n",
      "3  Both opensource software and proprietary softw...   AI Generated   \n",
      "4  Artificial intelligence AI is a wideranging br...  Human written   \n",
      "\n",
      "                                      Word_Frequency  \\\n",
      "0  {'There': 1, 'is': 3, 'nothing': 1, 'to': 3, '...   \n",
      "1  {'As': 2, 'of': 9, 'my': 1, 'last': 1, 'knowle...   \n",
      "2  {'Opensource': 2, 'and': 17, 'proprietary': 5,...   \n",
      "3  {'Both': 1, 'opensource': 3, 'software': 13, '...   \n",
      "4  {'Artificial': 1, 'intelligence': 1, 'AI': 2, ...   \n",
      "\n",
      "                                    4-gram_Frequency  \n",
      "0  {('There', 'is', 'nothing', 'to'): 1, ('is', '...  \n",
      "1  {('As', 'of', 'my', 'last'): 1, ('of', 'my', '...  \n",
      "2  {('Opensource', 'and', 'proprietary', 'softwar...  \n",
      "3  {('Both', 'opensource', 'software', 'and'): 1,...  \n",
      "4  {('Artificial', 'intelligence', 'AI', 'is'): 1...  \n"
     ]
    }
   ],
   "source": [
    "print(df.head())\n"
   ]
  },
  {
   "cell_type": "code",
   "execution_count": 9,
   "id": "0811bc37",
   "metadata": {},
   "outputs": [],
   "source": [
    "# Defining the function to analyze punctuation usage\n",
    "from collections import Counter\n",
    "import string\n",
    "def analyze_punctuation_usage(text):\n",
    "    punctuation_freq = Counter(char for char in text if char in string.punctuation)\n",
    "    return punctuation_freq\n",
    "\n",
    "# Applying the function to my DataFrame\n",
    "df['Punctuation_Usage'] = df['Answer'].apply(analyze_punctuation_usage)\n"
   ]
  },
  {
   "cell_type": "code",
   "execution_count": 10,
   "id": "b5cd9c4e",
   "metadata": {},
   "outputs": [
    {
     "name": "stdout",
     "output_type": "stream",
     "text": [
      "                                            Question  \\\n",
      "0  Whats your view on the Microsoft report that 7...   \n",
      "1  Whats your view on the Microsoft report that 7...   \n",
      "2  What are the pros and cons of opensource softw...   \n",
      "3  What are the pros and cons of opensource softw...   \n",
      "4               What is the artificial intelligence?   \n",
      "\n",
      "                                              Answer          Label  \\\n",
      "0  There is nothing to worry about it, also 74 lo...  Human written   \n",
      "1  As of my last knowledge update in September 20...   AI Generated   \n",
      "2  Opensource and proprietary software each come ...  Human written   \n",
      "3  Both opensource software and proprietary softw...   AI Generated   \n",
      "4  Artificial intelligence AI is a wideranging br...  Human written   \n",
      "\n",
      "                                      Word_Frequency  \\\n",
      "0  {'There': 1, 'is': 3, 'nothing': 1, 'to': 3, '...   \n",
      "1  {'As': 2, 'of': 9, 'my': 1, 'last': 1, 'knowle...   \n",
      "2  {'Opensource': 2, 'and': 17, 'proprietary': 5,...   \n",
      "3  {'Both': 1, 'opensource': 3, 'software': 13, '...   \n",
      "4  {'Artificial': 1, 'intelligence': 1, 'AI': 2, ...   \n",
      "\n",
      "                                    4-gram_Frequency  \\\n",
      "0  {('There', 'is', 'nothing', 'to'): 1, ('is', '...   \n",
      "1  {('As', 'of', 'my', 'last'): 1, ('of', 'my', '...   \n",
      "2  {('Opensource', 'and', 'proprietary', 'softwar...   \n",
      "3  {('Both', 'opensource', 'software', 'and'): 1,...   \n",
      "4  {('Artificial', 'intelligence', 'AI', 'is'): 1...   \n",
      "\n",
      "             Punctuation_Usage  \n",
      "0             {',': 6, '.': 5}  \n",
      "1           {',': 12, '.': 11}  \n",
      "2  {'.': 21, ':': 25, ',': 22}  \n",
      "3  {'.': 40, ':': 25, ',': 24}  \n",
      "4             {'.': 2, ',': 3}  \n"
     ]
    }
   ],
   "source": [
    "print(df.head())"
   ]
  },
  {
   "cell_type": "code",
   "execution_count": 11,
   "id": "656327eb",
   "metadata": {},
   "outputs": [],
   "source": [
    "# Defining a function to perform part-of-speech tagging\n",
    "def perform_pos_tagging(text):\n",
    "    words = nltk.word_tokenize(text)\n",
    "    pos_tags = nltk.pos_tag(words)\n",
    "    return pos_tags\n",
    "\n",
    "# Applying the function to my DataFrame\n",
    "df['Part_of_Speech_Tags'] = df['Answer'].apply(perform_pos_tagging)"
   ]
  },
  {
   "cell_type": "code",
   "execution_count": 12,
   "id": "63ff10c3",
   "metadata": {},
   "outputs": [
    {
     "name": "stdout",
     "output_type": "stream",
     "text": [
      "                                            Question  \\\n",
      "0  Whats your view on the Microsoft report that 7...   \n",
      "1  Whats your view on the Microsoft report that 7...   \n",
      "2  What are the pros and cons of opensource softw...   \n",
      "3  What are the pros and cons of opensource softw...   \n",
      "4               What is the artificial intelligence?   \n",
      "\n",
      "                                              Answer          Label  \\\n",
      "0  There is nothing to worry about it, also 74 lo...  Human written   \n",
      "1  As of my last knowledge update in September 20...   AI Generated   \n",
      "2  Opensource and proprietary software each come ...  Human written   \n",
      "3  Both opensource software and proprietary softw...   AI Generated   \n",
      "4  Artificial intelligence AI is a wideranging br...  Human written   \n",
      "\n",
      "                                      Word_Frequency  \\\n",
      "0  {'There': 1, 'is': 3, 'nothing': 1, 'to': 3, '...   \n",
      "1  {'As': 2, 'of': 9, 'my': 1, 'last': 1, 'knowle...   \n",
      "2  {'Opensource': 2, 'and': 17, 'proprietary': 5,...   \n",
      "3  {'Both': 1, 'opensource': 3, 'software': 13, '...   \n",
      "4  {'Artificial': 1, 'intelligence': 1, 'AI': 2, ...   \n",
      "\n",
      "                                    4-gram_Frequency  \\\n",
      "0  {('There', 'is', 'nothing', 'to'): 1, ('is', '...   \n",
      "1  {('As', 'of', 'my', 'last'): 1, ('of', 'my', '...   \n",
      "2  {('Opensource', 'and', 'proprietary', 'softwar...   \n",
      "3  {('Both', 'opensource', 'software', 'and'): 1,...   \n",
      "4  {('Artificial', 'intelligence', 'AI', 'is'): 1...   \n",
      "\n",
      "             Punctuation_Usage  \\\n",
      "0             {',': 6, '.': 5}   \n",
      "1           {',': 12, '.': 11}   \n",
      "2  {'.': 21, ':': 25, ',': 22}   \n",
      "3  {'.': 40, ':': 25, ',': 24}   \n",
      "4             {'.': 2, ',': 3}   \n",
      "\n",
      "                                 Part_of_Speech_Tags  \n",
      "0  [(There, EX), (is, VBZ), (nothing, NN), (to, T...  \n",
      "1  [(As, IN), (of, IN), (my, PRP$), (last, JJ), (...  \n",
      "2  [(Opensource, NN), (and, CC), (proprietary, JJ...  \n",
      "3  [(Both, DT), (opensource, NN), (software, NN),...  \n",
      "4  [(Artificial, JJ), (intelligence, NN), (AI, NN...  \n"
     ]
    }
   ],
   "source": [
    "print(df.head())"
   ]
  },
  {
   "cell_type": "code",
   "execution_count": 13,
   "id": "306bf016",
   "metadata": {},
   "outputs": [],
   "source": [
    "# Renaming and saving the modified dataset to a .csv file\n",
    "df.to_csv('combined_ultimate.csv', index=False)"
   ]
  },
  {
   "cell_type": "code",
   "execution_count": 14,
   "id": "83b111bb",
   "metadata": {},
   "outputs": [
    {
     "name": "stdout",
     "output_type": "stream",
     "text": [
      "(398, 7)\n"
     ]
    }
   ],
   "source": [
    "\n",
    "print(df.shape)"
   ]
  },
  {
   "cell_type": "code",
   "execution_count": 16,
   "id": "567129f2",
   "metadata": {},
   "outputs": [
    {
     "name": "stdout",
     "output_type": "stream",
     "text": [
      "Shape of the whole dataset: (398, 7)\n",
      "                                            Question  \\\n",
      "0  Whats your view on the Microsoft report that 7...   \n",
      "1  Whats your view on the Microsoft report that 7...   \n",
      "2  What are the pros and cons of opensource softw...   \n",
      "3  What are the pros and cons of opensource softw...   \n",
      "4               What is the artificial intelligence?   \n",
      "\n",
      "                                              Answer          Label  \\\n",
      "0  There is nothing to worry about it, also 74 lo...  Human written   \n",
      "1  As of my last knowledge update in September 20...   AI Generated   \n",
      "2  Opensource and proprietary software each come ...  Human written   \n",
      "3  Both opensource software and proprietary softw...   AI Generated   \n",
      "4  Artificial intelligence AI is a wideranging br...  Human written   \n",
      "\n",
      "                                      Word_Frequency  \\\n",
      "0  Counter({'of': 5, 'the': 5, 'is': 3, 'to': 3, ...   \n",
      "1  Counter({'and': 14, 'the': 12, 'of': 9, 'to': ...   \n",
      "2  Counter({'and': 17, 'software': 10, 'to': 9, '...   \n",
      "3  Counter({'and': 23, 'to': 20, 'software': 13, ...   \n",
      "4  Counter({'of': 3, 'in': 3, 'AI': 2, 'is': 2, '...   \n",
      "\n",
      "                                    4-gram_Frequency  \\\n",
      "0  Counter({('There', 'is', 'nothing', 'to'): 1, ...   \n",
      "1  Counter({('September', '2021', ',', 'I'): 2, (...   \n",
      "2  Counter({('Software', ':', 'Pros', ':'): 2, ('...   \n",
      "3  Counter({('Software', ':', 'Pros', ':'): 2, ('...   \n",
      "4  Counter({('Artificial', 'intelligence', 'AI', ...   \n",
      "\n",
      "                      Punctuation_Usage  \\\n",
      "0             Counter({',': 6, '.': 5})   \n",
      "1           Counter({',': 12, '.': 11})   \n",
      "2  Counter({':': 25, ',': 22, '.': 21})   \n",
      "3  Counter({'.': 40, ':': 25, ',': 24})   \n",
      "4             Counter({',': 3, '.': 2})   \n",
      "\n",
      "                                 Part_of_Speech_Tags  \n",
      "0  [('There', 'EX'), ('is', 'VBZ'), ('nothing', '...  \n",
      "1  [('As', 'IN'), ('of', 'IN'), ('my', 'PRP$'), (...  \n",
      "2  [('Opensource', 'NN'), ('and', 'CC'), ('propri...  \n",
      "3  [('Both', 'DT'), ('opensource', 'NN'), ('softw...  \n",
      "4  [('Artificial', 'JJ'), ('intelligence', 'NN'),...  \n",
      "Shape of X: (398, 4)\n",
      "Shape of y: (398,)\n",
      "Type of X: <class 'pandas.core.frame.DataFrame'>\n",
      "Type of y: <class 'pandas.core.series.Series'>\n"
     ]
    }
   ],
   "source": [
    "# This code is just to check the shape and first few rows of my dataset before modelling\n",
    "\n",
    "import pandas as pd\n",
    "from collections import Counter\n",
    "from sklearn.model_selection import train_test_split\n",
    "from sklearn.feature_extraction.text import TfidfVectorizer\n",
    "from sklearn.ensemble import RandomForestClassifier\n",
    "from sklearn.metrics import accuracy_score, classification_report\n",
    "\n",
    "# Load your dataset\n",
    "data = pd.read_csv('combined_ultimate.csv')\n",
    "\n",
    "# Printing the shape of the dataset\n",
    "print(\"Shape of the whole dataset:\", data.shape)\n",
    "\n",
    "# Printing the first few rows of the dataset\n",
    "print(data.head())\n",
    "\n",
    "# Splitting the dataset into features (X) and labels (y)\n",
    "X = data[['Word_Frequency', '4-gram_Frequency', 'Punctuation_Usage', 'Part_of_Speech_Tags']]\n",
    "y = data['Label']\n",
    "\n",
    "# Print the shape and type of X and y\n",
    "print(\"Shape of X:\", X.shape)\n",
    "print(\"Shape of y:\", y.shape)\n",
    "print(\"Type of X:\", type(X))\n",
    "print(\"Type of y:\", type(y))\n"
   ]
  },
  {
   "cell_type": "code",
   "execution_count": 18,
   "id": "d26c919e",
   "metadata": {},
   "outputs": [
    {
     "name": "stdout",
     "output_type": "stream",
     "text": [
      "Accuracy: 0.875\n",
      "Classification Report:\n",
      "                precision    recall  f1-score   support\n",
      "\n",
      " AI Generated       0.84      0.89      0.86        35\n",
      "Human written       0.91      0.87      0.89        45\n",
      "\n",
      "     accuracy                           0.88        80\n",
      "    macro avg       0.87      0.88      0.87        80\n",
      " weighted avg       0.88      0.88      0.88        80\n",
      "\n"
     ]
    }
   ],
   "source": [
    "import pandas as pd\n",
    "from sklearn.model_selection import train_test_split\n",
    "from sklearn.feature_extraction.text import TfidfVectorizer\n",
    "from sklearn.ensemble import RandomForestClassifier\n",
    "from sklearn.metrics import accuracy_score, classification_report\n",
    "from sklearn.preprocessing import MultiLabelBinarizer\n",
    "\n",
    "# Loading my dataset\n",
    "data = pd.read_csv('combined_ultimate.csv')\n",
    "\n",
    "# Implementing Feature Vectorization using TF-IDF for text features\n",
    "tfidf_vectorizer = TfidfVectorizer()\n",
    "text_tfidf = tfidf_vectorizer.fit_transform(data['Answer'])  # Assuming 'Answer' contains the text\n",
    "\n",
    "# Defining a custom function to convert the 'Word_Frequency' column to a list\n",
    "def convert_word_frequency(text):\n",
    "    try:\n",
    "        return list(eval(text).values())\n",
    "    except:\n",
    "        return []\n",
    "\n",
    "data['Word_Frequency'] = data['Word_Frequency'].apply(convert_word_frequency)\n",
    "\n",
    "# Defining a custom function to convert the '4-gram_Frequency' column to a list\n",
    "def convert_4gram_frequency(text):\n",
    "    try:\n",
    "        return list(eval(text).values())\n",
    "    except:\n",
    "        return []\n",
    "\n",
    "data['4-gram_Frequency'] = data['4-gram_Frequency'].apply(convert_4gram_frequency)\n",
    "\n",
    "# Defining a custom function to convert the 'Punctuation_Usage' column to a list\n",
    "def convert_punctuation_usage(text):\n",
    "    try:\n",
    "        return list(eval(text).values())\n",
    "    except:\n",
    "        return []\n",
    "\n",
    "data['Punctuation_Usage'] = data['Punctuation_Usage'].apply(convert_punctuation_usage)\n",
    "\n",
    "# Defining a custom function to convert the 'Part_of_Speech_Tags' column to a list\n",
    "def convert_part_of_speech_tags(text):\n",
    "    try:\n",
    "        return eval(text)\n",
    "    except:\n",
    "        return []\n",
    "\n",
    "data['Part_of_Speech_Tags'] = data['Part_of_Speech_Tags'].apply(convert_part_of_speech_tags)\n",
    "\n",
    "# Splitting the 'Punctuation_Usage' and 'Part_of_Speech_Tags' lists into separate columns using MultiLabelBinarizer\n",
    "mlb = MultiLabelBinarizer()\n",
    "punctuation_columns = pd.DataFrame(mlb.fit_transform(data['Punctuation_Usage']), columns=mlb.classes_)\n",
    "pos_columns = pd.DataFrame(mlb.fit_transform(data['Part_of_Speech_Tags']), columns=mlb.classes_)\n",
    "\n",
    "# Combining the TF-IDF matrix with the new feature columns\n",
    "X = pd.concat([pd.DataFrame(text_tfidf.toarray()), punctuation_columns, pos_columns], axis=1)\n",
    "\n",
    "# Defining the target variable\n",
    "y = data['Label']\n",
    "\n",
    "# Splitting the data into training and testing sets\n",
    "X_train, X_test, y_train, y_test = train_test_split(X, y, test_size=0.2, random_state=42)\n",
    "\n",
    "# Initializing and training a Random Forest Classifier\n",
    "model = RandomForestClassifier(n_estimators=100, random_state=42)\n",
    "model.fit(X_train, y_train)\n",
    "\n",
    "# Predicting labels for the test set\n",
    "y_pred = model.predict(X_test)\n",
    "\n",
    "# Calculating accuracy\n",
    "accuracy = accuracy_score(y_test, y_pred)\n",
    "print('Accuracy:', accuracy)\n",
    "\n",
    "# Classification report\n",
    "classification_rep = classification_report(y_test, y_pred)\n",
    "print('Classification Report:\\n', classification_rep)\n",
    "\n",
    "\n"
   ]
  },
  {
   "cell_type": "code",
   "execution_count": 21,
   "id": "25589ef0",
   "metadata": {},
   "outputs": [
    {
     "name": "stdout",
     "output_type": "stream",
     "text": [
      "Confusion Matrix:\n",
      " [[31  4]\n",
      " [ 6 39]]\n"
     ]
    }
   ],
   "source": [
    "from sklearn.metrics import confusion_matrix\n",
    "\n",
    "# Calculate the confusion matrix\n",
    "conf_matrix = confusion_matrix(y_test, y_pred)\n",
    "\n",
    "print('Confusion Matrix:\\n', conf_matrix)"
   ]
  },
  {
   "cell_type": "code",
   "execution_count": 20,
   "id": "503d1e78",
   "metadata": {},
   "outputs": [
    {
     "data": {
      "image/png": "[encoded data removed]",
      "text/plain": [
       "<Figure size 800x600 with 2 Axes>"
      ]
     },
     "metadata": {},
     "output_type": "display_data"
    }
   ],
   "source": [
    "import matplotlib.pyplot as plt\n",
    "import seaborn as sns\n",
    "from sklearn.metrics import confusion_matrix\n",
    "\n",
    "# Calculate the confusion matrix\n",
    "conf_matrix = confusion_matrix(y_test, y_pred)\n",
    "\n",
    "# Create a heatmap for visualization\n",
    "plt.figure(figsize=(8, 6))\n",
    "sns.heatmap(conf_matrix, annot=True, fmt='d', cmap='Blues', \n",
    "            xticklabels=['Human written', 'AI Generated'], \n",
    "            yticklabels=['Human written', 'AI Generated'])\n",
    "plt.xlabel('Predicted')\n",
    "plt.ylabel('Actual')\n",
    "plt.title('Confusion Matrix')\n",
    "plt.show()\n"
   ]
  },
  {
   "cell_type": "code",
   "execution_count": null,
   "id": "c0451689",
   "metadata": {},
   "outputs": [],
   "source": []
  }
 ],
 "metadata": {
  "kernelspec": {
   "display_name": "Python 3 (ipykernel)",
   "language": "python",
   "name": "python3"
  },
  "language_info": {
   "codemirror_mode": {
    "name": "ipython",
    "version": 3
   },
   "file_extension": ".py",
   "mimetype": "text/x-python",
   "name": "python",
   "nbconvert_exporter": "python",
   "pygments_lexer": "ipython3",
   "version": "3.10.9"
  }
 },
 "nbformat": 4,
 "nbformat_minor": 5
}
