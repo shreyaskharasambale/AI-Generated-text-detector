{
 "cells": [
  {
   "cell_type": "code",
   "execution_count": 1,
   "id": "9368041f",
   "metadata": {},
   "outputs": [],
   "source": [
    "import pandas as pd\n",
    "import spacy\n",
    "nlp = spacy.load('en_core_web_md') "
   ]
  },
  {
   "cell_type": "code",
   "execution_count": 2,
   "id": "cb7f8560",
   "metadata": {},
   "outputs": [],
   "source": [
    "# Loading my dataset\n",
    "df = pd.read_csv('wordembeddings_ultimate.csv')  \n"
   ]
  },
  {
   "cell_type": "code",
   "execution_count": 3,
   "id": "5226e284",
   "metadata": {
    "scrolled": true
   },
   "outputs": [
    {
     "name": "stdout",
     "output_type": "stream",
     "text": [
      "                                            Question  \\\n",
      "0  Whats your view on the Microsoft report that 7...   \n",
      "1  Whats your view on the Microsoft report that 7...   \n",
      "2  What are the pros and cons of opensource softw...   \n",
      "3  What are the pros and cons of opensource softw...   \n",
      "4               What is the artificial intelligence?   \n",
      "\n",
      "                                              Answer          Label  \n",
      "0  There is nothing to worry about it, also 74 lo...  Human written  \n",
      "1  As of my last knowledge update in September 20...   AI Generated  \n",
      "2  Opensource and proprietary software each come ...  Human written  \n",
      "3  Both opensource software and proprietary softw...   AI Generated  \n",
      "4  Artificial intelligence AI is a wideranging br...  Human written  \n"
     ]
    }
   ],
   "source": [
    "print(df.head())"
   ]
  },
  {
   "cell_type": "code",
   "execution_count": 4,
   "id": "cf21a624",
   "metadata": {},
   "outputs": [],
   "source": [
    "# Function to perform word embeddings \n",
    "def get_word_embeddings(text):\n",
    "    doc = nlp(text)\n",
    "    # Obtaining the average word vector for the entire text\n",
    "    vector = doc.vector\n",
    "    return vector\n",
    "\n",
    "# Applying the function to my dataset\n",
    "df['Answer_Embeddings'] = df['Answer'].apply(get_word_embeddings)\n",
    "\n",
    "# Now, my DataFrame contains columns 'Question_Embeddings' and 'Answer_Embeddings' with word embeddings\n",
    "\n",
    "# I am saving this DataFrame with embeddings to a new CSV file\n",
    "df.to_csv('5wordembeddings_ultimate.csv', index=False)\n"
   ]
  },
  {
   "cell_type": "code",
   "execution_count": 5,
   "id": "92445df6",
   "metadata": {},
   "outputs": [
    {
     "name": "stdout",
     "output_type": "stream",
     "text": [
      "                                            Question  \\\n",
      "0  Whats your view on the Microsoft report that 7...   \n",
      "1  Whats your view on the Microsoft report that 7...   \n",
      "2  What are the pros and cons of opensource softw...   \n",
      "3  What are the pros and cons of opensource softw...   \n",
      "4               What is the artificial intelligence?   \n",
      "\n",
      "                                              Answer          Label  \\\n",
      "0  There is nothing to worry about it, also 74 lo...  Human written   \n",
      "1  As of my last knowledge update in September 20...   AI Generated   \n",
      "2  Opensource and proprietary software each come ...  Human written   \n",
      "3  Both opensource software and proprietary softw...   AI Generated   \n",
      "4  Artificial intelligence AI is a wideranging br...  Human written   \n",
      "\n",
      "                                   Answer_Embeddings  \n",
      "0  [-1.3528047, 1.3327239, -1.6917982, -0.5116001...  \n",
      "1  [-1.3809974, 0.6764068, -2.0791752, 0.20076549...  \n",
      "2  [-1.0989734, -0.21837348, -0.61581016, 0.66459...  \n",
      "3  [-1.2675619, -0.4702591, -1.1283333, 0.8399294...  \n",
      "4  [-1.718386, 0.5474085, -0.6578866, 0.96147674,...  \n"
     ]
    }
   ],
   "source": [
    "print(df.head())"
   ]
  },
  {
   "cell_type": "code",
   "execution_count": 6,
   "id": "3f62917a",
   "metadata": {},
   "outputs": [
    {
     "name": "stdout",
     "output_type": "stream",
     "text": [
      "Accuracy: 0.47\n",
      "Classification Report:\n",
      "                precision    recall  f1-score   support\n",
      "\n",
      " AI Generated       0.45      0.94      0.61        35\n",
      "Human written       0.71      0.11      0.19        45\n",
      "\n",
      "     accuracy                           0.48        80\n",
      "    macro avg       0.58      0.53      0.40        80\n",
      " weighted avg       0.60      0.47      0.38        80\n",
      "\n"
     ]
    }
   ],
   "source": [
    "import pandas as pd\n",
    "import numpy as np\n",
    "from sklearn.model_selection import train_test_split\n",
    "from sklearn.ensemble import RandomForestClassifier\n",
    "from sklearn.metrics import accuracy_score, classification_report\n",
    "from sklearn.feature_extraction.text import TfidfVectorizer\n",
    "\n",
    "# Loading my dataset \n",
    "df = pd.read_csv('5wordembeddings_ultimate.csv')\n",
    "\n",
    "X = df['Answer_Embeddings'] \n",
    "y = df['Label']\n",
    "\n",
    "# Splitting my data into training and testing sets\n",
    "X_train, X_test, y_train, y_test = train_test_split(X, y, test_size=0.2, random_state=42)\n",
    "\n",
    "# Feature extraction using TF-IDF\n",
    "tfidf_vectorizer = TfidfVectorizer()\n",
    "X_train_transformed = tfidf_vectorizer.fit_transform(X_train)\n",
    "X_test_transformed = tfidf_vectorizer.transform(X_test)\n",
    "\n",
    "# Initializing the Random Forest classifier\n",
    "rf_classifier = RandomForestClassifier(n_estimators=100, random_state=42)\n",
    "\n",
    "# Training the classifier on the training data\n",
    "rf_classifier.fit(X_train_transformed, y_train)\n",
    "\n",
    "# Making predictions on the testing data\n",
    "y_pred = rf_classifier.predict(X_test_transformed)\n",
    "\n",
    "# Evaluating the classifier\n",
    "accuracy = accuracy_score(y_test, y_pred)\n",
    "report = classification_report(y_test, y_pred)\n",
    "\n",
    "print(f'Accuracy: {accuracy:.2f}')\n",
    "print('Classification Report:\\n', report)\n"
   ]
  }
 ],
 "metadata": {
  "kernelspec": {
   "display_name": "Python 3 (ipykernel)",
   "language": "python",
   "name": "python3"
  },
  "language_info": {
   "codemirror_mode": {
    "name": "ipython",
    "version": 3
   },
   "file_extension": ".py",
   "mimetype": "text/x-python",
   "name": "python",
   "nbconvert_exporter": "python",
   "pygments_lexer": "ipython3",
   "version": "3.10.9"
  }
 },
 "nbformat": 4,
 "nbformat_minor": 5
}
