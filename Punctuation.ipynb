{
 "cells": [
  {
   "cell_type": "code",
   "execution_count": 1,
   "id": "62b2014f",
   "metadata": {},
   "outputs": [],
   "source": [
    "import pandas as pd"
   ]
  },
  {
   "cell_type": "code",
   "execution_count": 2,
   "id": "0043b805",
   "metadata": {},
   "outputs": [],
   "source": [
    "# Loading my dataset\n",
    "df = pd.read_csv('Punctuation_ultimate.csv')"
   ]
  },
  {
   "cell_type": "code",
   "execution_count": 3,
   "id": "2a066f63",
   "metadata": {},
   "outputs": [
    {
     "name": "stdout",
     "output_type": "stream",
     "text": [
      "                                            Question  \\\n",
      "0  Whats your view on the Microsoft report that 7...   \n",
      "1  Whats your view on the Microsoft report that 7...   \n",
      "2  What are the pros and cons of opensource softw...   \n",
      "3  What are the pros and cons of opensource softw...   \n",
      "4               What is the artificial intelligence?   \n",
      "\n",
      "                                              Answer          Label  \n",
      "0  There is nothing to worry about it, also 74 lo...  Human written  \n",
      "1  As of my last knowledge update in September 20...   AI Generated  \n",
      "2  Opensource and proprietary software each come ...  Human written  \n",
      "3  Both opensource software and proprietary softw...   AI Generated  \n",
      "4  Artificial intelligence AI is a wideranging br...  Human written  \n"
     ]
    }
   ],
   "source": [
    "print(df.head()) # Eyeballing my dataset"
   ]
  },
  {
   "cell_type": "code",
   "execution_count": 4,
   "id": "9a1b8c5b",
   "metadata": {},
   "outputs": [],
   "source": [
    "# Function to analyze punctuation usage\n",
    "from collections import Counter\n",
    "import string\n",
    "def Analyse_punctuation_usage(text):\n",
    "    punctuation_freq = Counter(char for char in text if char in string.punctuation)\n",
    "    return punctuation_freq\n",
    "\n",
    "# Applying the function to your DataFrame\n",
    "df['Punctuation_Usage'] = df['Answer'].apply(Analyse_punctuation_usage)\n"
   ]
  },
  {
   "cell_type": "code",
   "execution_count": 5,
   "id": "a1f4612b",
   "metadata": {},
   "outputs": [
    {
     "name": "stdout",
     "output_type": "stream",
     "text": [
      "                                            Question  \\\n",
      "0  Whats your view on the Microsoft report that 7...   \n",
      "1  Whats your view on the Microsoft report that 7...   \n",
      "2  What are the pros and cons of opensource softw...   \n",
      "3  What are the pros and cons of opensource softw...   \n",
      "4               What is the artificial intelligence?   \n",
      "\n",
      "                                              Answer          Label  \\\n",
      "0  There is nothing to worry about it, also 74 lo...  Human written   \n",
      "1  As of my last knowledge update in September 20...   AI Generated   \n",
      "2  Opensource and proprietary software each come ...  Human written   \n",
      "3  Both opensource software and proprietary softw...   AI Generated   \n",
      "4  Artificial intelligence AI is a wideranging br...  Human written   \n",
      "\n",
      "             Punctuation_Usage  \n",
      "0             {',': 6, '.': 5}  \n",
      "1           {',': 12, '.': 11}  \n",
      "2  {'.': 21, ':': 25, ',': 22}  \n",
      "3  {'.': 40, ':': 25, ',': 24}  \n",
      "4             {'.': 2, ',': 3}  \n"
     ]
    }
   ],
   "source": [
    "print(df.head())\n"
   ]
  },
  {
   "cell_type": "code",
   "execution_count": 6,
   "id": "d3750854",
   "metadata": {},
   "outputs": [],
   "source": [
    "df.to_csv('3Punctuation_ultimate.csv', index=False)"
   ]
  },
  {
   "cell_type": "markdown",
   "id": "4a2274f7",
   "metadata": {},
   "source": [
    "The \"Punctuation_Usage\" column in my dataset contains dictionary-like structures (e.g., Counter({'.' : 40, ':': 25, ',': 24})). This format is not suitable for directly feeding into a machine learning classifier, as classifiers expect numerical input data."
   ]
  },
  {
   "cell_type": "code",
   "execution_count": 7,
   "id": "e2005aab",
   "metadata": {},
   "outputs": [
    {
     "name": "stdout",
     "output_type": "stream",
     "text": [
      "                                              Question  \\\n",
      "0    Whats your view on the Microsoft report that 7...   \n",
      "1    Whats your view on the Microsoft report that 7...   \n",
      "2    What are the pros and cons of opensource softw...   \n",
      "3    What are the pros and cons of opensource softw...   \n",
      "4                 What is the artificial intelligence?   \n",
      "..                                                 ...   \n",
      "393  If we knew an asteroid was going to hit Earth ...   \n",
      "394  What would happen if an antimatter meteor the ...   \n",
      "395  What would happen if an antimatter meteor the ...   \n",
      "396  What would happen if a comet larger than the S...   \n",
      "397  What would happen if a comet larger than the S...   \n",
      "\n",
      "                                                Answer          Label  \\\n",
      "0    There is nothing to worry about it, also 74 lo...  Human written   \n",
      "1    As of my last knowledge update in September 20...   AI Generated   \n",
      "2    Opensource and proprietary software each come ...  Human written   \n",
      "3    Both opensource software and proprietary softw...   AI Generated   \n",
      "4    Artificial intelligence AI is a wideranging br...  Human written   \n",
      "..                                                 ...            ...   \n",
      "393  Moving Earth out of the path of an incoming as...   AI Generated   \n",
      "394  If an antimatter meteor the size of a 10 kilom...  Human written   \n",
      "395  If an antimatter meteor were to collide with t...   AI Generated   \n",
      "396  First, a quick review of how mass affects what...  Human written   \n",
      "397  The scenario of a comet larger than the Sun co...   AI Generated   \n",
      "\n",
      "     Period_Count  Colon_Count  Comma_Count  \n",
      "0             5.0          0.0          6.0  \n",
      "1            11.0          0.0         12.0  \n",
      "2            21.0         25.0         22.0  \n",
      "3            40.0         25.0         24.0  \n",
      "4             2.0          0.0          3.0  \n",
      "..            ...          ...          ...  \n",
      "393          26.0         11.0         18.0  \n",
      "394          13.0          0.0         12.0  \n",
      "395          17.0         12.0         26.0  \n",
      "396          19.0          2.0         26.0  \n",
      "397          20.0          6.0         19.0  \n",
      "\n",
      "[398 rows x 6 columns]\n"
     ]
    }
   ],
   "source": [
    "import pandas as pd\n",
    "\n",
    "# Creating a DataFrame\n",
    "df = pd.read_csv('3Punctuation_ultimate.csv')\n",
    "\n",
    "# Manually parsing the 'Punctuation_Usage' column\n",
    "for index, row in df.iterrows():\n",
    "    try:\n",
    "        punctuation_dict = eval(row['Punctuation_Usage'])\n",
    "        df.at[index, 'Period_Count'] = punctuation_dict.get('.', 0)\n",
    "        df.at[index, 'Colon_Count'] = punctuation_dict.get(':', 0)\n",
    "        df.at[index, 'Comma_Count'] = punctuation_dict.get(',', 0)\n",
    "    except Exception as e:\n",
    "        print(f\"Error parsing row {index}: {e}\")\n",
    "\n",
    "# Dropping the original 'Punctuation_Usage' column\n",
    "df.drop(columns=['Punctuation_Usage'], inplace=True)\n",
    "\n",
    "# Printing the DataFrame\n",
    "print(df)\n"
   ]
  },
  {
   "cell_type": "code",
   "execution_count": 8,
   "id": "2d6788fb",
   "metadata": {},
   "outputs": [],
   "source": [
    "df.to_csv('3Punctuation_ultimate.csv', index=False)"
   ]
  },
  {
   "cell_type": "code",
   "execution_count": 9,
   "id": "6ad32e9e",
   "metadata": {
    "scrolled": false
   },
   "outputs": [
    {
     "name": "stdout",
     "output_type": "stream",
     "text": [
      "Accuracy: 0.84\n",
      "Classification Report:\n",
      "                precision    recall  f1-score   support\n",
      "\n",
      " AI Generated       0.79      0.86      0.82        35\n",
      "Human written       0.88      0.82      0.85        45\n",
      "\n",
      "     accuracy                           0.84        80\n",
      "    macro avg       0.84      0.84      0.84        80\n",
      " weighted avg       0.84      0.84      0.84        80\n",
      "\n"
     ]
    }
   ],
   "source": [
    "\n",
    "import pandas as pd\n",
    "from sklearn.model_selection import train_test_split\n",
    "from sklearn.ensemble import RandomForestClassifier\n",
    "from sklearn.metrics import accuracy_score, classification_report\n",
    "\n",
    "# Loading my dataset\n",
    "df = pd.read_csv('3Punctuation_ultimate.csv') \n",
    "\n",
    "# Extracting features and labels\n",
    "X = df[['Period_Count', 'Colon_Count', 'Comma_Count']]\n",
    "y = df['Label']\n",
    "\n",
    "# Splitting the data into training and testing sets \n",
    "X_train, X_test, y_train, y_test = train_test_split(X, y, test_size=0.2, random_state=42)\n",
    "\n",
    "# Initializing the Random Forest classifier \n",
    "rf_classifier = RandomForestClassifier(n_estimators=100, random_state=42)\n",
    "\n",
    "# Training the classifier on the training data\n",
    "rf_classifier.fit(X_train, y_train)\n",
    "\n",
    "# Making predictions on the testing data\n",
    "y_pred = rf_classifier.predict(X_test)\n",
    "\n",
    "# Evaluating the model's performance\n",
    "accuracy = accuracy_score(y_test, y_pred)\n",
    "classification_rep = classification_report(y_test, y_pred)\n",
    "\n",
    "# Printing the results\n",
    "print(f\"Accuracy: {accuracy:.2f}\")\n",
    "print(\"Classification Report:\\n\", classification_rep)\n"
   ]
  }
 ],
 "metadata": {
  "kernelspec": {
   "display_name": "Python 3 (ipykernel)",
   "language": "python",
   "name": "python3"
  },
  "language_info": {
   "codemirror_mode": {
    "name": "ipython",
    "version": 3
   },
   "file_extension": ".py",
   "mimetype": "text/x-python",
   "name": "python",
   "nbconvert_exporter": "python",
   "pygments_lexer": "ipython3",
   "version": "3.10.9"
  }
 },
 "nbformat": 4,
 "nbformat_minor": 5
}
