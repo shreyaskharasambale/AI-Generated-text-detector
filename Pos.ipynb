{
 "cells": [
  {
   "cell_type": "code",
   "execution_count": 1,
   "id": "bcef0a25",
   "metadata": {},
   "outputs": [
    {
     "name": "stderr",
     "output_type": "stream",
     "text": [
      "[nltk_data] Downloading package punkt to\n",
      "[nltk_data]     C:\\Users\\Dell\\AppData\\Roaming\\nltk_data...\n",
      "[nltk_data]   Package punkt is already up-to-date!\n",
      "[nltk_data] Downloading package averaged_perceptron_tagger to\n",
      "[nltk_data]     C:\\Users\\Dell\\AppData\\Roaming\\nltk_data...\n",
      "[nltk_data]   Package averaged_perceptron_tagger is already up-to-\n",
      "[nltk_data]       date!\n"
     ]
    },
    {
     "data": {
      "text/plain": [
       "True"
      ]
     },
     "execution_count": 1,
     "metadata": {},
     "output_type": "execute_result"
    }
   ],
   "source": [
    "# Importing the necessary Libraries\n",
    "import pandas as pd\n",
    "import nltk\n",
    "nltk.download('punkt')\n",
    "nltk.download('averaged_perceptron_tagger')"
   ]
  },
  {
   "cell_type": "code",
   "execution_count": 2,
   "id": "2a5307b7",
   "metadata": {},
   "outputs": [],
   "source": [
    "# Loading my dataset\n",
    "df = pd.read_csv('POS_ultimate.csv')"
   ]
  },
  {
   "cell_type": "code",
   "execution_count": 3,
   "id": "4031e614",
   "metadata": {},
   "outputs": [
    {
     "name": "stdout",
     "output_type": "stream",
     "text": [
      "                                            Question  \\\n",
      "0  Whats your view on the Microsoft report that 7...   \n",
      "1  Whats your view on the Microsoft report that 7...   \n",
      "2  What are the pros and cons of opensource softw...   \n",
      "3  What are the pros and cons of opensource softw...   \n",
      "4               What is the artificial intelligence?   \n",
      "\n",
      "                                              Answer          Label  \n",
      "0  There is nothing to worry about it, also 74 lo...  Human written  \n",
      "1  As of my last knowledge update in September 20...   AI Generated  \n",
      "2  Opensource and proprietary software each come ...  Human written  \n",
      "3  Both opensource software and proprietary softw...   AI Generated  \n",
      "4  Artificial intelligence AI is a wideranging br...  Human written  \n"
     ]
    }
   ],
   "source": [
    "print(df.head())"
   ]
  },
  {
   "cell_type": "code",
   "execution_count": 4,
   "id": "d7342d75",
   "metadata": {},
   "outputs": [],
   "source": [
    "# Function to perform POS tagging\n",
    "def performing_pos_tagging(text):\n",
    "    words = nltk.word_tokenize(text)\n",
    "    pos_tags = nltk.pos_tag(words)\n",
    "    return pos_tags\n",
    "\n",
    "# Applying the function to my DataFrame\n",
    "df['Part_of_Speech_Tags'] = df['Answer'].apply(performing_pos_tagging)\n"
   ]
  },
  {
   "cell_type": "code",
   "execution_count": 5,
   "id": "eb8f525d",
   "metadata": {
    "scrolled": true
   },
   "outputs": [
    {
     "name": "stdout",
     "output_type": "stream",
     "text": [
      "                                            Question  \\\n",
      "0  Whats your view on the Microsoft report that 7...   \n",
      "1  Whats your view on the Microsoft report that 7...   \n",
      "2  What are the pros and cons of opensource softw...   \n",
      "3  What are the pros and cons of opensource softw...   \n",
      "4               What is the artificial intelligence?   \n",
      "\n",
      "                                              Answer          Label  \\\n",
      "0  There is nothing to worry about it, also 74 lo...  Human written   \n",
      "1  As of my last knowledge update in September 20...   AI Generated   \n",
      "2  Opensource and proprietary software each come ...  Human written   \n",
      "3  Both opensource software and proprietary softw...   AI Generated   \n",
      "4  Artificial intelligence AI is a wideranging br...  Human written   \n",
      "\n",
      "                                 Part_of_Speech_Tags  \n",
      "0  [(There, EX), (is, VBZ), (nothing, NN), (to, T...  \n",
      "1  [(As, IN), (of, IN), (my, PRP$), (last, JJ), (...  \n",
      "2  [(Opensource, NN), (and, CC), (proprietary, JJ...  \n",
      "3  [(Both, DT), (opensource, NN), (software, NN),...  \n",
      "4  [(Artificial, JJ), (intelligence, NN), (AI, NN...  \n"
     ]
    }
   ],
   "source": [
    "print(df.head())"
   ]
  },
  {
   "cell_type": "code",
   "execution_count": 6,
   "id": "6857a0a0",
   "metadata": {},
   "outputs": [],
   "source": [
    "df.to_csv('4POS_ultimate.csv', index=False)"
   ]
  },
  {
   "cell_type": "code",
   "execution_count": 13,
   "id": "0fcb8de7",
   "metadata": {
    "scrolled": true
   },
   "outputs": [
    {
     "name": "stdout",
     "output_type": "stream",
     "text": [
      "Accuracy: 0.8\n",
      "Classification Report:\n",
      "                precision    recall  f1-score   support\n",
      "\n",
      " AI Generated       0.73      0.86      0.79        35\n",
      "Human written       0.87      0.76      0.81        45\n",
      "\n",
      "     accuracy                           0.80        80\n",
      "    macro avg       0.80      0.81      0.80        80\n",
      " weighted avg       0.81      0.80      0.80        80\n",
      "\n"
     ]
    }
   ],
   "source": [
    "# Importing necessary Libraries\n",
    "import pandas as pd\n",
    "from sklearn.model_selection import train_test_split\n",
    "from sklearn.metrics import classification_report\n",
    "from sklearn.ensemble import RandomForestClassifier\n",
    "from sklearn.feature_extraction.text import CountVectorizer\n",
    "import nltk\n",
    "\n",
    "# Converting answers to string format\n",
    "df['Part_of_Speech_Tags'] = df['Part_of_Speech_Tags'].apply(str)\n",
    "\n",
    "# Splitting data into training and testing sets\n",
    "X = df['Part_of_Speech_Tags']\n",
    "y = df['Label']\n",
    "X_train, X_test, y_train, y_test = train_test_split(X, y, test_size=0.2, random_state=42)\n",
    "\n",
    "# Initializing the CountVectorizer\n",
    "vectorizer = CountVectorizer()\n",
    "\n",
    "# Fitting and transforming the answers\n",
    "X_train_vectorized = vectorizer.fit_transform(X_train)\n",
    "X_test_vectorized = vectorizer.transform(X_test)\n",
    "\n",
    "# Initializing the Random Forest model\n",
    "model = RandomForestClassifier()\n",
    "\n",
    "# Training the model\n",
    "model.fit(X_train_vectorized, y_train)\n",
    "\n",
    "# Making predictions on the testing data\n",
    "y_pred = model.predict(X_test_vectorized)\n",
    "\n",
    "# Evaluating the model\n",
    "accuracy = model.score(X_test_vectorized, y_test)\n",
    "classification_rep = classification_report(y_test, y_pred)\n",
    "\n",
    "# Printing the accuracy and classification report\n",
    "print(\"Accuracy:\", accuracy)\n",
    "print(\"Classification Report:\\n\", classification_rep)\n"
   ]
  },
  {
   "cell_type": "code",
   "execution_count": 16,
   "id": "971a9477",
   "metadata": {
    "scrolled": true
   },
   "outputs": [
    {
     "name": "stdout",
     "output_type": "stream",
     "text": [
      "Accuracy: 0.8\n",
      "Classification Report:\n",
      "                precision    recall  f1-score   support\n",
      "\n",
      " AI Generated       0.75      0.86      0.80        35\n",
      "Human written       0.88      0.78      0.82        45\n",
      "\n",
      "     accuracy                           0.81        80\n",
      "    macro avg       0.81      0.82      0.81        80\n",
      " weighted avg       0.82      0.81      0.81        80\n",
      "\n"
     ]
    }
   ],
   "source": [
    "import pandas as pd\n",
    "from sklearn.model_selection import train_test_split\n",
    "from sklearn.metrics import classification_report\n",
    "from sklearn.ensemble import RandomForestClassifier\n",
    "from sklearn.feature_extraction.text import TfidfVectorizer\n",
    "\n",
    "# Load your dataset\n",
    "data = pd.read_csv('4POS_ultimate.csv')\n",
    "\n",
    "# Split the data into training and testing sets\n",
    "X = data['Part_of_Speech_Tags'].astype(str)  # Convert POS tags to string\n",
    "y = data['Label']\n",
    "X_train, X_test, y_train, y_test = train_test_split(X, y, test_size=0.2, random_state=42)\n",
    "\n",
    "# Initialize the TF-IDF vectorizer\n",
    "tfidf_vectorizer = TfidfVectorizer()\n",
    "\n",
    "# Fit and transform the training data\n",
    "X_train_tfidf = tfidf_vectorizer.fit_transform(X_train)\n",
    "\n",
    "# Transform the testing data\n",
    "X_test_tfidf = tfidf_vectorizer.transform(X_test)\n",
    "\n",
    "# Initialize the Random Forest model\n",
    "model = RandomForestClassifier()\n",
    "\n",
    "# Training the model\n",
    "model.fit(X_train_tfidf, y_train)\n",
    "\n",
    "# Make predictions on the testing data\n",
    "y_pred = model.predict(X_test_tfidf)\n",
    "\n",
    "# Evaluate the model\n",
    "classification_rep = classification_report(y_test, y_pred)\n",
    "\n",
    "print(\"Accuracy:\", accuracy)\n",
    "# Print the classification report\n",
    "print(\"Classification Report:\\n\", classification_rep)\n"
   ]
  },
  {
   "cell_type": "code",
   "execution_count": null,
   "id": "c14d0127",
   "metadata": {},
   "outputs": [],
   "source": []
  }
 ],
 "metadata": {
  "kernelspec": {
   "display_name": "Python 3 (ipykernel)",
   "language": "python",
   "name": "python3"
  },
  "language_info": {
   "codemirror_mode": {
    "name": "ipython",
    "version": 3
   },
   "file_extension": ".py",
   "mimetype": "text/x-python",
   "name": "python",
   "nbconvert_exporter": "python",
   "pygments_lexer": "ipython3",
   "version": "3.10.9"
  }
 },
 "nbformat": 4,
 "nbformat_minor": 5
}
