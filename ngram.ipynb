{
 "cells": [
  {
   "cell_type": "code",
   "execution_count": 1,
   "id": "77efa230",
   "metadata": {},
   "outputs": [
    {
     "name": "stderr",
     "output_type": "stream",
     "text": [
      "[nltk_data] Downloading package punkt to\n",
      "[nltk_data]     C:\\Users\\Dell\\AppData\\Roaming\\nltk_data...\n",
      "[nltk_data]   Package punkt is already up-to-date!\n"
     ]
    },
    {
     "data": {
      "text/plain": [
       "True"
      ]
     },
     "execution_count": 1,
     "metadata": {},
     "output_type": "execute_result"
    }
   ],
   "source": [
    "import pandas as pd\n",
    "from collections import Counter\n",
    "import nltk\n",
    "# Downloading the 'punkt' resource\n",
    "nltk.download('punkt')"
   ]
  },
  {
   "cell_type": "code",
   "execution_count": 2,
   "id": "9c49781a",
   "metadata": {},
   "outputs": [],
   "source": [
    "# Loading my dataset\n",
    "df = pd.read_csv('Ngram_ultimate.csv')"
   ]
  },
  {
   "cell_type": "code",
   "execution_count": 3,
   "id": "c65d3d16",
   "metadata": {},
   "outputs": [
    {
     "name": "stdout",
     "output_type": "stream",
     "text": [
      "                                            Question  \\\n",
      "0  Whats your view on the Microsoft report that 7...   \n",
      "1  Whats your view on the Microsoft report that 7...   \n",
      "2  What are the pros and cons of opensource softw...   \n",
      "3  What are the pros and cons of opensource softw...   \n",
      "4               What is the artificial intelligence?   \n",
      "\n",
      "                                              Answer          Label  \n",
      "0  There is nothing to worry about it, also 74 lo...  Human written  \n",
      "1  As of my last knowledge update in September 20...   AI Generated  \n",
      "2  Opensource and proprietary software each come ...  Human written  \n",
      "3  Both opensource software and proprietary softw...   AI Generated  \n",
      "4  Artificial intelligence AI is a wideranging br...  Human written  \n"
     ]
    }
   ],
   "source": [
    "print(df.head())"
   ]
  },
  {
   "cell_type": "code",
   "execution_count": 4,
   "id": "853d5439",
   "metadata": {},
   "outputs": [],
   "source": [
    "from nltk.util import ngrams  # Importing the ngrams function\n",
    "\n",
    "# Function to calculate n-gram frequencies\n",
    "def Analysing_ngram_frequency(text, n):\n",
    "    words = nltk.word_tokenize(text)\n",
    "    ngram_freq = Counter(ngrams(words, n))\n",
    "    return ngram_freq\n",
    "\n",
    "# Applying the function to my DataFrame\n",
    "n = 4 # I am implementing n-grams for n=4  \n",
    "df[f'{n}-gram_Frequency'] = df['Answer'].apply(lambda x: Analysing_ngram_frequency(x, n))\n"
   ]
  },
  {
   "cell_type": "code",
   "execution_count": 5,
   "id": "6e82b150",
   "metadata": {},
   "outputs": [
    {
     "name": "stdout",
     "output_type": "stream",
     "text": [
      "                                            Question  \\\n",
      "0  Whats your view on the Microsoft report that 7...   \n",
      "1  Whats your view on the Microsoft report that 7...   \n",
      "2  What are the pros and cons of opensource softw...   \n",
      "3  What are the pros and cons of opensource softw...   \n",
      "4               What is the artificial intelligence?   \n",
      "\n",
      "                                              Answer          Label  \\\n",
      "0  There is nothing to worry about it, also 74 lo...  Human written   \n",
      "1  As of my last knowledge update in September 20...   AI Generated   \n",
      "2  Opensource and proprietary software each come ...  Human written   \n",
      "3  Both opensource software and proprietary softw...   AI Generated   \n",
      "4  Artificial intelligence AI is a wideranging br...  Human written   \n",
      "\n",
      "                                    4-gram_Frequency  \n",
      "0  {('There', 'is', 'nothing', 'to'): 1, ('is', '...  \n",
      "1  {('As', 'of', 'my', 'last'): 1, ('of', 'my', '...  \n",
      "2  {('Opensource', 'and', 'proprietary', 'softwar...  \n",
      "3  {('Both', 'opensource', 'software', 'and'): 1,...  \n",
      "4  {('Artificial', 'intelligence', 'AI', 'is'): 1...  \n"
     ]
    }
   ],
   "source": [
    "print(df.head())"
   ]
  },
  {
   "cell_type": "code",
   "execution_count": 6,
   "id": "01c3eddf",
   "metadata": {},
   "outputs": [],
   "source": [
    "df.to_csv('2Ngram_ultimate.csv', index=False)"
   ]
  },
  {
   "cell_type": "code",
   "execution_count": 7,
   "id": "18d512b0",
   "metadata": {},
   "outputs": [
    {
     "name": "stdout",
     "output_type": "stream",
     "text": [
      "Accuracy: 0.8125\n",
      "Classification Report:\n",
      "                precision    recall  f1-score   support\n",
      "\n",
      " AI Generated       0.76      0.83      0.79        35\n",
      "Human written       0.86      0.80      0.83        45\n",
      "\n",
      "     accuracy                           0.81        80\n",
      "    macro avg       0.81      0.81      0.81        80\n",
      " weighted avg       0.82      0.81      0.81        80\n",
      "\n"
     ]
    }
   ],
   "source": [
    "from sklearn.model_selection import train_test_split\n",
    "from sklearn.metrics import classification_report\n",
    "from sklearn.ensemble import RandomForestClassifier\n",
    "from sklearn.feature_extraction.text import CountVectorizer\n",
    "import pandas as pd\n",
    "\n",
    "# Loading my data\n",
    "df = pd.read_csv('2Ngram_ultimate.csv')\n",
    "\n",
    "# Converting n-gram frequencies to string format\n",
    "df['4-gram_Frequency'] = df['4-gram_Frequency'].apply(str)\n",
    "\n",
    "# Splitting the data into training and testing sets\n",
    "X = df['4-gram_Frequency']\n",
    "y = df['Label']\n",
    "X_train, X_test, y_train, y_test = train_test_split(X, y, test_size=0.2, random_state=42)\n",
    "\n",
    "# Initializing the CountVectorizer\n",
    "vectorizer = CountVectorizer()\n",
    "\n",
    "# Fit and transform the n-gram frequencies\n",
    "X_train_vectorized = vectorizer.fit_transform(X_train)\n",
    "X_test_vectorized = vectorizer.transform(X_test)\n",
    "\n",
    "# Initializing the model (Random Forest Classifier)\n",
    "model = RandomForestClassifier()\n",
    "\n",
    "# Training the model\n",
    "model.fit(X_train_vectorized, y_train)\n",
    "\n",
    "# Making predictions on the testing data\n",
    "y_pred = model.predict(X_test_vectorized)\n",
    "\n",
    "# Evaluating the model\n",
    "accuracy = model.score(X_test_vectorized, y_test)\n",
    "classification_rep = classification_report(y_test, y_pred)\n",
    "\n",
    "# Printing the Accuracy and classification report\n",
    "print(\"Accuracy:\", accuracy)\n",
    "print(\"Classification Report:\\n\", classification_rep)\n"
   ]
  }
 ],
 "metadata": {
  "kernelspec": {
   "display_name": "Python 3 (ipykernel)",
   "language": "python",
   "name": "python3"
  },
  "language_info": {
   "codemirror_mode": {
    "name": "ipython",
    "version": 3
   },
   "file_extension": ".py",
   "mimetype": "text/x-python",
   "name": "python",
   "nbconvert_exporter": "python",
   "pygments_lexer": "ipython3",
   "version": "3.10.9"
  }
 },
 "nbformat": 4,
 "nbformat_minor": 5
}
