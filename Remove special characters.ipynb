{
 "cells": [
  {
   "cell_type": "code",
   "execution_count": 5,
   "id": "63c1e10f",
   "metadata": {
    "scrolled": true
   },
   "outputs": [
    {
     "name": "stdout",
     "output_type": "stream",
     "text": [
      "                                              Question  \\\n",
      "0    Whats your view on the Microsoft report that 7...   \n",
      "1    Whats your view on the Microsoft report that 7...   \n",
      "2    What are the pros and cons of opensource softw...   \n",
      "3    What are the pros and cons of opensource softw...   \n",
      "4                 What is the artificial intelligence?   \n",
      "..                                                 ...   \n",
      "393  If we knew an asteroid was going to hit Earth ...   \n",
      "394  What would happen if an antimatter meteor the ...   \n",
      "395  What would happen if an antimatter meteor the ...   \n",
      "396  What would happen if a comet larger than the S...   \n",
      "397  What would happen if a comet larger than the S...   \n",
      "\n",
      "                                                Answer          Label  \n",
      "0    There is nothing to worry about it, also 74 lo...  Human written  \n",
      "1    As of my last knowledge update in September 20...   AI Generated  \n",
      "2    Opensource and proprietary software each come ...  Human written  \n",
      "3    Both opensource software and proprietary softw...   AI Generated  \n",
      "4    Artificial intelligence AI is a wideranging br...  Human written  \n",
      "..                                                 ...            ...  \n",
      "393  Moving Earth out of the path of an incoming as...   AI Generated  \n",
      "394  If an antimatter meteor the size of a 10 kilom...  Human written  \n",
      "395  If an antimatter meteor were to collide with t...   AI Generated  \n",
      "396  First, a quick review of how mass affects what...  Human written  \n",
      "397  The scenario of a comet larger than the Sun co...   AI Generated  \n",
      "\n",
      "[398 rows x 3 columns]\n"
     ]
    }
   ],
   "source": [
    "import pandas as pd\n",
    "import re\n",
    "\n",
    "# Assuming you have loaded your dataset into a variable like 'dataset'\n",
    "# For example:\n",
    "dataset = pd.read_csv('reshaped_dataset.csv')\n",
    "\n",
    "# Function to remove special characters while keeping punctuation marks\n",
    "def remove_special_characters(input_string):\n",
    "    pattern = r'[^a-zA-Z0-9\\s.,;:!?]'\n",
    "    result = re.sub(pattern, '', input_string)\n",
    "    return result\n",
    "\n",
    "# Apply the function to the 'Questions' and 'Answers' columns\n",
    "dataset['Question'] = dataset['Question'].apply(remove_special_characters)\n",
    "dataset['Answer'] = dataset['Answer'].apply(remove_special_characters)\n",
    "\n",
    "# Output the modified DataFrame\n",
    "print(dataset)\n",
    "\n"
   ]
  },
  {
   "cell_type": "code",
   "execution_count": 7,
   "id": "612183ca",
   "metadata": {},
   "outputs": [],
   "source": [
    "dataset.to_csv('nospecial_data.csv', index=False)"
   ]
  },
  {
   "cell_type": "code",
   "execution_count": null,
   "id": "e882f5aa",
   "metadata": {},
   "outputs": [],
   "source": []
  }
 ],
 "metadata": {
  "kernelspec": {
   "display_name": "Python 3 (ipykernel)",
   "language": "python",
   "name": "python3"
  },
  "language_info": {
   "codemirror_mode": {
    "name": "ipython",
    "version": 3
   },
   "file_extension": ".py",
   "mimetype": "text/x-python",
   "name": "python",
   "nbconvert_exporter": "python",
   "pygments_lexer": "ipython3",
   "version": "3.10.9"
  }
 },
 "nbformat": 4,
 "nbformat_minor": 5
}
